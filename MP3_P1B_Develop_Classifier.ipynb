{
 "cells": [
  {
   "cell_type": "markdown",
   "metadata": {
    "id": "i94cVWMeBBqJ"
   },
   "source": [
    "# Assignment 3 Part 1: Developing Your Own Classifier"
   ]
  },
  {
   "cell_type": "code",
   "execution_count": 1,
   "metadata": {
    "colab": {
     "base_uri": "https://localhost:8080/"
    },
    "executionInfo": {
     "elapsed": 349,
     "status": "ok",
     "timestamp": 1604790657192,
     "user": {
      "displayName": "Darren Anco",
      "photoUrl": "",
      "userId": "14649199161897741912"
     },
     "user_tz": 360
    },
    "id": "nqwfz7HcBEO4",
    "outputId": "1cf8f5d4-73bd-43c5-885e-47a797f3a357"
   },
   "outputs": [
    {
     "name": "stdout",
     "output_type": "stream",
     "text": [
      "Drive already mounted at /content/gdrive; to attempt to forcibly remount, call drive.mount(\"/content/gdrive\", force_remount=True).\n"
     ]
    }
   ],
   "source": [
    "from google.colab import drive\n",
    "drive.mount('/content/gdrive')\n",
    "import os\n",
    "os.chdir(\"gdrive/My Drive/assignment3_p1\")"
   ]
  },
  {
   "cell_type": "code",
   "execution_count": 2,
   "metadata": {
    "executionInfo": {
     "elapsed": 1068,
     "status": "ok",
     "timestamp": 1604790662167,
     "user": {
      "displayName": "Darren Anco",
      "photoUrl": "",
      "userId": "14649199161897741912"
     },
     "user_tz": 360
    },
    "id": "_U4NlOsgBBqK"
   },
   "outputs": [],
   "source": [
    "import os\n",
    "import numpy as np\n",
    "import torch\n",
    "import torch.nn as nn\n",
    "import torchvision\n",
    "\n",
    "from torchvision import transforms\n",
    "from sklearn.metrics import average_precision_score\n",
    "from PIL import Image, ImageDraw\n",
    "import matplotlib.pyplot as plt\n",
    "from kaggle_submission import output_submission_csv\n",
    "from classifier import SimpleClassifier, Classifier#, AlexNet\n",
    "from voc_dataloader import VocDataset, VOC_CLASSES\n",
    "\n",
    "%matplotlib inline\n",
    "%load_ext autoreload\n",
    "%autoreload 2"
   ]
  },
  {
   "cell_type": "code",
   "execution_count": 3,
   "metadata": {
    "colab": {
     "base_uri": "https://localhost:8080/",
     "height": 37
    },
    "executionInfo": {
     "elapsed": 40120,
     "status": "ok",
     "timestamp": 1604782963548,
     "user": {
      "displayName": "Darren Anco",
      "photoUrl": "",
      "userId": "14649199161897741912"
     },
     "user_tz": 360
    },
    "id": "tPzBjpbBByWI",
    "outputId": "b521dae2-2069-4776-cdef-48bbb14aa914"
   },
   "outputs": [
    {
     "data": {
      "application/vnd.google.colaboratory.intrinsic+json": {
       "type": "string"
      },
      "text/plain": [
       "'/content/VOCdevkit_2007/VOC2007test'"
      ]
     },
     "execution_count": 3,
     "metadata": {
      "tags": []
     },
     "output_type": "execute_result"
    }
   ],
   "source": [
    "import shutil \n",
    "shutil.copyfile(\"VOCtrainval_06-Nov-2007.tar\", \"/content/VOCtrainval_06-Nov-2007.tar\")\n",
    "!tar -xf \"/content/VOCtrainval_06-Nov-2007.tar\" -C \"/content/\" \n",
    "shutil.move(\"/content/VOCdevkit/\", \"/content/VOCdevkit_2007\")\n",
    "\n",
    "shutil.copyfile(\"VOCtest_06-Nov-2007.tar\", \"/content/VOCtest_06-Nov-2007.tar\")\n",
    "!tar -xf \"/content/VOCtest_06-Nov-2007.tar\" -C \"/content/\" \n",
    "shutil.move(\"/content/VOCdevkit/VOC2007\", \"/content/VOCdevkit_2007/VOC2007test\")"
   ]
  },
  {
   "cell_type": "markdown",
   "metadata": {
    "id": "KV6fBwAHBBqQ"
   },
   "source": [
    "# Part 1B: Design your own network\n",
    "\n",
    "In this notebook, your task is to create and train your own model for multi-label classification on VOC Pascal.\n",
    "\n",
    "## What to do\n",
    "1. You will make change on network architecture in ```classifier.py```.\n",
    "2. You may also want to change other hyperparameters to assist your training to get a better performances. Hints will be given in the below instructions.\n",
    "\n",
    "## What to submit\n",
    "Check the submission template for details what to submit. "
   ]
  },
  {
   "cell_type": "code",
   "execution_count": 3,
   "metadata": {
    "executionInfo": {
     "elapsed": 185,
     "status": "ok",
     "timestamp": 1604790665599,
     "user": {
      "displayName": "Darren Anco",
      "photoUrl": "",
      "userId": "14649199161897741912"
     },
     "user_tz": 360
    },
    "id": "ysd350L-BBqQ"
   },
   "outputs": [],
   "source": [
    "def train_classifier(train_loader, classifier, criterion, optimizer):\n",
    "    classifier.train()\n",
    "    loss_ = 0.0\n",
    "    losses = []\n",
    "    for i, (images, labels, _) in enumerate(train_loader):\n",
    "        images, labels = images.to(device), labels.to(device)\n",
    "        optimizer.zero_grad()\n",
    "        logits = classifier(images)\n",
    "        loss = criterion(logits, labels)\n",
    "        loss.backward()\n",
    "        optimizer.step()\n",
    "        losses.append(loss)\n",
    "    return torch.stack(losses).mean().item()"
   ]
  },
  {
   "cell_type": "code",
   "execution_count": 4,
   "metadata": {
    "executionInfo": {
     "elapsed": 199,
     "status": "ok",
     "timestamp": 1604790665971,
     "user": {
      "displayName": "Darren Anco",
      "photoUrl": "",
      "userId": "14649199161897741912"
     },
     "user_tz": 360
    },
    "id": "P0Vq_2hKBBqS"
   },
   "outputs": [],
   "source": [
    "def test_classifier(test_loader, classifier, criterion, print_ind_classes=True, print_total=True):\n",
    "    classifier.eval()\n",
    "    losses = []\n",
    "    with torch.no_grad():\n",
    "        y_true = np.zeros((0,21))\n",
    "        y_score = np.zeros((0,21))\n",
    "        for i, (images, labels, _) in enumerate(test_loader):\n",
    "            images, labels = images.to(device), labels.to(device)\n",
    "            logits = classifier(images)\n",
    "            y_true = np.concatenate((y_true, labels.cpu().numpy()), axis=0)\n",
    "            y_score = np.concatenate((y_score, logits.cpu().numpy()), axis=0)\n",
    "            loss = criterion(logits, labels)\n",
    "            losses.append(loss.item())\n",
    "        aps = []\n",
    "        # ignore first class which is background\n",
    "        for i in range(1, y_true.shape[1]):\n",
    "            ap = average_precision_score(y_true[:, i], y_score[:, i])\n",
    "            if print_ind_classes:\n",
    "                print('-------  Class: {:<12}     AP: {:>8.4f}  -------'.format(VOC_CLASSES[i], ap))\n",
    "            aps.append(ap)\n",
    "        \n",
    "        mAP = np.mean(aps)\n",
    "        test_loss = np.mean(losses)\n",
    "        if print_total:\n",
    "            print('mAP: {0:.4f}'.format(mAP))\n",
    "            print('Avg loss: {}'.format(test_loss))\n",
    "        \n",
    "    return mAP, test_loss, aps"
   ]
  },
  {
   "cell_type": "code",
   "execution_count": 5,
   "metadata": {
    "executionInfo": {
     "elapsed": 241,
     "status": "ok",
     "timestamp": 1604790667416,
     "user": {
      "displayName": "Darren Anco",
      "photoUrl": "",
      "userId": "14649199161897741912"
     },
     "user_tz": 360
    },
    "id": "y3WZ8C6iBBqV"
   },
   "outputs": [],
   "source": [
    "def plot_losses(train, val, test_frequency, num_epochs):\n",
    "    plt.plot(train, label=\"train\")\n",
    "    indices = [i for i in range(num_epochs) if ((i+1)%test_frequency == 0 or i ==0)]\n",
    "    plt.plot(indices, val, label=\"val\")\n",
    "    plt.title(\"Loss Plot\")\n",
    "    plt.ylabel(\"Loss\")\n",
    "    plt.xlabel(\"Epoch\")\n",
    "    plt.legend()\n",
    "    plt.show()\n",
    "    \n",
    "def plot_mAP(train, val, test_frequency, num_epochs):\n",
    "    indices = [i for i in range(num_epochs) if ((i+1)%test_frequency == 0 or i ==0)]\n",
    "    plt.plot(indices, train, label=\"train\")\n",
    "    plt.plot(indices, val, label=\"val\")\n",
    "    plt.title(\"mAP Plot\")\n",
    "    plt.ylabel(\"mAP\")\n",
    "    plt.xlabel(\"Epoch\")\n",
    "    plt.legend()\n",
    "    plt.show()\n",
    "    "
   ]
  },
  {
   "cell_type": "code",
   "execution_count": 6,
   "metadata": {
    "executionInfo": {
     "elapsed": 202,
     "status": "ok",
     "timestamp": 1604790668478,
     "user": {
      "displayName": "Darren Anco",
      "photoUrl": "",
      "userId": "14649199161897741912"
     },
     "user_tz": 360
    },
    "id": "wr6XAhHIBBqX"
   },
   "outputs": [],
   "source": [
    "\n",
    "def train(classifier, num_epochs, train_loader, val_loader, criterion, optimizer, test_frequency=5):\n",
    "    train_losses = []\n",
    "    train_mAPs = []\n",
    "    val_losses = []\n",
    "    val_mAPs = []\n",
    "\n",
    "    for epoch in range(1,num_epochs+1):\n",
    "        print(\"Starting epoch number \" + str(epoch))\n",
    "        train_loss = train_classifier(train_loader, classifier, criterion, optimizer)\n",
    "        train_losses.append(train_loss)\n",
    "        print(\"Loss for Training on Epoch \" +str(epoch) + \" is \"+ str(train_loss))\n",
    "        if(epoch%test_frequency==0 or epoch==1):\n",
    "            mAP_train, _, _ = test_classifier(train_loader, classifier, criterion, False, False)\n",
    "            train_mAPs.append(mAP_train)\n",
    "            mAP_val, val_loss, _ = test_classifier(val_loader, classifier, criterion)\n",
    "            print('Evaluating classifier')\n",
    "            print(\"Mean Precision Score for Testing on Epoch \" +str(epoch) + \" is \"+ str(mAP_val))\n",
    "            val_losses.append(val_loss)\n",
    "            val_mAPs.append(mAP_val)\n",
    "    \n",
    "    return classifier, train_losses, val_losses, train_mAPs, val_mAPs"
   ]
  },
  {
   "cell_type": "markdown",
   "metadata": {
    "id": "amTAhkkWBBqZ"
   },
   "source": [
    "# Developing Your Own Model"
   ]
  },
  {
   "cell_type": "markdown",
   "metadata": {
    "id": "X-A-sB3DBBqa"
   },
   "source": [
    "### Goal\n",
    "To meet the benchmark for this assignment you will need to improve the network. Note you should have noticed pretrained Alenxt performs really well, but training Alexnet from scratch performs much worse. We hope you can design a better architecture over both the simple classifier and AlexNet to train from scratch.\n",
    "\n",
    "### How to start\n",
    "You may take inspiration from other published architectures and architectures discussed in lecture. However, you are NOT allowed to use predefined models (e.g. models from torchvision) or use pretrained weights. Training must be done from scratch with your own custom model.\n",
    "\n",
    "#### Some hints\n",
    "There are a variety of different approaches you should try to improve performance from the simple classifier:\n",
    "\n",
    "* Network architecture changes\n",
    "    * Number of layers: try adding layers to make your network deeper\n",
    "    * Batch normalization: adding batch norm between layers will likely give you a significant performance increase\n",
    "    * Residual connections: as you increase the depth of your network, you will find that having residual connections like those in ResNet architectures will be helpful\n",
    "* Optimizer: Instead of plain SGD, you may want to add a learning rate schedule, add momentum, or use one of the other optimizers you have learned about like Adam. Check the `torch.optim` package for other optimizers\n",
    "* Data augmentation: You should use the `torchvision.transforms` module to try adding random resized crops and horizontal flips of the input data. Check `transforms.RandomResizedCrop` and `transforms.RandomHorizontalFlip` for this. Feel free to apply more [transforms](https://pytorch.org/docs/stable/torchvision/transforms.html) for data augmentation which can lead to better performance. \n",
    "* Epochs: Once you have found a generally good hyperparameter setting try training for more epochs\n",
    "* Loss function: You might want to add weighting to the `MultiLabelSoftMarginLoss` for classes that are less well represented or experiment with a different loss function\n",
    "\n",
    "\n",
    "\n",
    "#### Note\n",
    "We will soon be providing some initial expectations of mAP values as a function of epoch so you can get an early idea whether your implementation works without waiting a long time for training to converge.\n",
    "\n",
    "### What to submit \n",
    "Submit your best model to Kaggle and save all plots for the writeup.\n"
   ]
  },
  {
   "cell_type": "code",
   "execution_count": 54,
   "metadata": {
    "executionInfo": {
     "elapsed": 1370,
     "status": "ok",
     "timestamp": 1604806331039,
     "user": {
      "displayName": "Darren Anco",
      "photoUrl": "",
      "userId": "14649199161897741912"
     },
     "user_tz": 360
    },
    "id": "xzwye-uRBBqa"
   },
   "outputs": [],
   "source": [
    "device = torch.device(\"cuda:0\" if torch.cuda.is_available() else \"cpu\")\n",
    "\n",
    "normalize = transforms.Normalize(mean=[0.485, 0.456, 0.406],\n",
    "                                     std= [0.229, 0.224, 0.225])\n",
    "\n",
    "train_transform = transforms.Compose([\n",
    "            transforms.Resize(227),\n",
    "            transforms.CenterCrop(227),\n",
    "            transforms.RandomResizedCrop(227, scale=(0.2, 1.0)),\n",
    "            transforms.RandomHorizontalFlip(),\n",
    "            transforms.ToTensor(),\n",
    "            normalize\n",
    "        ])\n",
    "\n",
    "test_transform = transforms.Compose([\n",
    "            transforms.Resize(227),\n",
    "            transforms.CenterCrop(227),\n",
    "            transforms.ToTensor(),\n",
    "            normalize,\n",
    "        ])\n",
    "\n",
    "ds_train = VocDataset('/content/VOCdevkit_2007/VOC2007','train',train_transform)\n",
    "ds_val = VocDataset('/content/VOCdevkit_2007/VOC2007','val',test_transform)\n",
    "ds_test = VocDataset('/content/VOCdevkit_2007/VOC2007test','test', test_transform)\n"
   ]
  },
  {
   "cell_type": "code",
   "execution_count": 55,
   "metadata": {
    "executionInfo": {
     "elapsed": 493,
     "status": "ok",
     "timestamp": 1604806331642,
     "user": {
      "displayName": "Darren Anco",
      "photoUrl": "",
      "userId": "14649199161897741912"
     },
     "user_tz": 360
    },
    "id": "gOIHOz7QBBqd"
   },
   "outputs": [],
   "source": [
    "num_epochs = 50\n",
    "test_frequency = 5\n",
    "batch_size = 8\n",
    "\n",
    "train_loader = torch.utils.data.DataLoader(dataset=ds_train,\n",
    "                                               batch_size=batch_size, \n",
    "                                               shuffle=True,\n",
    "                                               num_workers=1)\n",
    "\n",
    "val_loader = torch.utils.data.DataLoader(dataset=ds_val,\n",
    "                                               batch_size=batch_size, \n",
    "                                               shuffle=True,\n",
    "                                               num_workers=1)\n",
    "\n",
    "test_loader = torch.utils.data.DataLoader(dataset=ds_test,\n",
    "                                               batch_size=batch_size, \n",
    "                                               shuffle=False,\n",
    "                                               num_workers=1)"
   ]
  },
  {
   "cell_type": "code",
   "execution_count": 56,
   "metadata": {
    "colab": {
     "base_uri": "https://localhost:8080/"
    },
    "executionInfo": {
     "elapsed": 3367976,
     "status": "ok",
     "timestamp": 1604809702524,
     "user": {
      "displayName": "Darren Anco",
      "photoUrl": "",
      "userId": "14649199161897741912"
     },
     "user_tz": 360
    },
    "id": "73T5jX-NBBqg",
    "outputId": "2dd21826-7575-48c4-d66c-f242c1dfa06b"
   },
   "outputs": [
    {
     "name": "stdout",
     "output_type": "stream",
     "text": [
      "Starting epoch number 1\n",
      "Loss for Training on Epoch 1 is 0.24618008732795715\n",
      "-------  Class: aeroplane        AP:   0.2623  -------\n",
      "-------  Class: bicycle          AP:   0.0616  -------\n",
      "-------  Class: bird             AP:   0.0804  -------\n",
      "-------  Class: boat             AP:   0.1206  -------\n",
      "-------  Class: bottle           AP:   0.0647  -------\n",
      "-------  Class: bus              AP:   0.0796  -------\n",
      "-------  Class: car              AP:   0.2715  -------\n",
      "-------  Class: cat              AP:   0.2171  -------\n",
      "-------  Class: chair            AP:   0.2124  -------\n",
      "-------  Class: cow              AP:   0.0542  -------\n",
      "-------  Class: diningtable      AP:   0.0912  -------\n",
      "-------  Class: dog              AP:   0.1477  -------\n",
      "-------  Class: horse            AP:   0.0767  -------\n",
      "-------  Class: motorbike        AP:   0.0514  -------\n",
      "-------  Class: person           AP:   0.4845  -------\n",
      "-------  Class: pottedplant      AP:   0.0692  -------\n",
      "-------  Class: sheep            AP:   0.0616  -------\n",
      "-------  Class: sofa             AP:   0.1607  -------\n",
      "-------  Class: train            AP:   0.1629  -------\n",
      "-------  Class: tvmonitor        AP:   0.0939  -------\n",
      "mAP: 0.1412\n",
      "Avg loss: 0.22433214800752652\n",
      "Evaluating classifier\n",
      "Mean Precision Score for Testing on Epoch 1 is 0.14121145593585946\n",
      "Starting epoch number 2\n",
      "Loss for Training on Epoch 2 is 0.2258741855621338\n",
      "Starting epoch number 3\n",
      "Loss for Training on Epoch 3 is 0.21948939561843872\n",
      "Starting epoch number 4\n",
      "Loss for Training on Epoch 4 is 0.21651344001293182\n",
      "Starting epoch number 5\n",
      "Loss for Training on Epoch 5 is 0.21279431879520416\n",
      "-------  Class: aeroplane        AP:   0.4648  -------\n",
      "-------  Class: bicycle          AP:   0.1787  -------\n",
      "-------  Class: bird             AP:   0.1449  -------\n",
      "-------  Class: boat             AP:   0.2487  -------\n",
      "-------  Class: bottle           AP:   0.1183  -------\n",
      "-------  Class: bus              AP:   0.1649  -------\n",
      "-------  Class: car              AP:   0.4681  -------\n",
      "-------  Class: cat              AP:   0.2698  -------\n",
      "-------  Class: chair            AP:   0.2983  -------\n",
      "-------  Class: cow              AP:   0.1217  -------\n",
      "-------  Class: diningtable      AP:   0.1810  -------\n",
      "-------  Class: dog              AP:   0.2024  -------\n",
      "-------  Class: horse            AP:   0.2880  -------\n",
      "-------  Class: motorbike        AP:   0.1328  -------\n",
      "-------  Class: person           AP:   0.5934  -------\n",
      "-------  Class: pottedplant      AP:   0.1096  -------\n",
      "-------  Class: sheep            AP:   0.1058  -------\n",
      "-------  Class: sofa             AP:   0.2434  -------\n",
      "-------  Class: train            AP:   0.3656  -------\n",
      "-------  Class: tvmonitor        AP:   0.1554  -------\n",
      "mAP: 0.2428\n",
      "Avg loss: 0.2046787824220718\n",
      "Evaluating classifier\n",
      "Mean Precision Score for Testing on Epoch 5 is 0.24277722838785162\n",
      "Starting epoch number 6\n",
      "Loss for Training on Epoch 6 is 0.21044281125068665\n",
      "Starting epoch number 7\n",
      "Loss for Training on Epoch 7 is 0.2082202434539795\n",
      "Starting epoch number 8\n",
      "Loss for Training on Epoch 8 is 0.20631328225135803\n",
      "Starting epoch number 9\n",
      "Loss for Training on Epoch 9 is 0.20417024195194244\n",
      "Starting epoch number 10\n",
      "Loss for Training on Epoch 10 is 0.20250385999679565\n",
      "-------  Class: aeroplane        AP:   0.4802  -------\n",
      "-------  Class: bicycle          AP:   0.2128  -------\n",
      "-------  Class: bird             AP:   0.1732  -------\n",
      "-------  Class: boat             AP:   0.2946  -------\n",
      "-------  Class: bottle           AP:   0.1604  -------\n",
      "-------  Class: bus              AP:   0.1664  -------\n",
      "-------  Class: car              AP:   0.4910  -------\n",
      "-------  Class: cat              AP:   0.2803  -------\n",
      "-------  Class: chair            AP:   0.3706  -------\n",
      "-------  Class: cow              AP:   0.1334  -------\n",
      "-------  Class: diningtable      AP:   0.2426  -------\n",
      "-------  Class: dog              AP:   0.2285  -------\n",
      "-------  Class: horse            AP:   0.3788  -------\n",
      "-------  Class: motorbike        AP:   0.1917  -------\n",
      "-------  Class: person           AP:   0.6438  -------\n",
      "-------  Class: pottedplant      AP:   0.1180  -------\n",
      "-------  Class: sheep            AP:   0.1216  -------\n",
      "-------  Class: sofa             AP:   0.2678  -------\n",
      "-------  Class: train            AP:   0.3916  -------\n",
      "-------  Class: tvmonitor        AP:   0.2099  -------\n",
      "mAP: 0.2779\n",
      "Avg loss: 0.19767675840645837\n",
      "Evaluating classifier\n",
      "Mean Precision Score for Testing on Epoch 10 is 0.2778704364628682\n",
      "Starting epoch number 11\n",
      "Loss for Training on Epoch 11 is 0.20112304389476776\n",
      "Starting epoch number 12\n",
      "Loss for Training on Epoch 12 is 0.1994171291589737\n",
      "Starting epoch number 13\n",
      "Loss for Training on Epoch 13 is 0.1981584131717682\n",
      "Starting epoch number 14\n",
      "Loss for Training on Epoch 14 is 0.19572101533412933\n",
      "Starting epoch number 15\n",
      "Loss for Training on Epoch 15 is 0.19507205486297607\n",
      "-------  Class: aeroplane        AP:   0.5645  -------\n",
      "-------  Class: bicycle          AP:   0.2681  -------\n",
      "-------  Class: bird             AP:   0.2011  -------\n",
      "-------  Class: boat             AP:   0.3621  -------\n",
      "-------  Class: bottle           AP:   0.1244  -------\n",
      "-------  Class: bus              AP:   0.2088  -------\n",
      "-------  Class: car              AP:   0.4960  -------\n",
      "-------  Class: cat              AP:   0.3651  -------\n",
      "-------  Class: chair            AP:   0.3546  -------\n",
      "-------  Class: cow              AP:   0.2003  -------\n",
      "-------  Class: diningtable      AP:   0.2850  -------\n",
      "-------  Class: dog              AP:   0.2305  -------\n",
      "-------  Class: horse            AP:   0.2884  -------\n",
      "-------  Class: motorbike        AP:   0.2856  -------\n",
      "-------  Class: person           AP:   0.6747  -------\n",
      "-------  Class: pottedplant      AP:   0.1249  -------\n",
      "-------  Class: sheep            AP:   0.1559  -------\n",
      "-------  Class: sofa             AP:   0.2575  -------\n",
      "-------  Class: train            AP:   0.3714  -------\n",
      "-------  Class: tvmonitor        AP:   0.2055  -------\n",
      "mAP: 0.3012\n",
      "Avg loss: 0.19909061083368434\n",
      "Evaluating classifier\n",
      "Mean Precision Score for Testing on Epoch 15 is 0.30122629046287913\n",
      "Starting epoch number 16\n",
      "Loss for Training on Epoch 16 is 0.1936967819929123\n",
      "Starting epoch number 17\n",
      "Loss for Training on Epoch 17 is 0.19320204854011536\n",
      "Starting epoch number 18\n",
      "Loss for Training on Epoch 18 is 0.19369880855083466\n",
      "Starting epoch number 19\n",
      "Loss for Training on Epoch 19 is 0.19214987754821777\n",
      "Starting epoch number 20\n",
      "Loss for Training on Epoch 20 is 0.19240759313106537\n",
      "-------  Class: aeroplane        AP:   0.5414  -------\n",
      "-------  Class: bicycle          AP:   0.2238  -------\n",
      "-------  Class: bird             AP:   0.2035  -------\n",
      "-------  Class: boat             AP:   0.3412  -------\n",
      "-------  Class: bottle           AP:   0.1604  -------\n",
      "-------  Class: bus              AP:   0.3171  -------\n",
      "-------  Class: car              AP:   0.5281  -------\n",
      "-------  Class: cat              AP:   0.3551  -------\n",
      "-------  Class: chair            AP:   0.4184  -------\n",
      "-------  Class: cow              AP:   0.1428  -------\n",
      "-------  Class: diningtable      AP:   0.2839  -------\n",
      "-------  Class: dog              AP:   0.2487  -------\n",
      "-------  Class: horse            AP:   0.4423  -------\n",
      "-------  Class: motorbike        AP:   0.3347  -------\n",
      "-------  Class: person           AP:   0.6837  -------\n",
      "-------  Class: pottedplant      AP:   0.1638  -------\n",
      "-------  Class: sheep            AP:   0.1408  -------\n",
      "-------  Class: sofa             AP:   0.3308  -------\n",
      "-------  Class: train            AP:   0.4761  -------\n",
      "-------  Class: tvmonitor        AP:   0.3376  -------\n",
      "mAP: 0.3337\n",
      "Avg loss: 0.1860304350970657\n",
      "Evaluating classifier\n",
      "Mean Precision Score for Testing on Epoch 20 is 0.3337184647950513\n",
      "Starting epoch number 21\n",
      "Loss for Training on Epoch 21 is 0.1900843381881714\n",
      "Starting epoch number 22\n",
      "Loss for Training on Epoch 22 is 0.18868336081504822\n",
      "Starting epoch number 23\n",
      "Loss for Training on Epoch 23 is 0.18736182153224945\n",
      "Starting epoch number 24\n",
      "Loss for Training on Epoch 24 is 0.18905054032802582\n",
      "Starting epoch number 25\n",
      "Loss for Training on Epoch 25 is 0.18694563210010529\n",
      "-------  Class: aeroplane        AP:   0.5694  -------\n",
      "-------  Class: bicycle          AP:   0.2239  -------\n",
      "-------  Class: bird             AP:   0.2097  -------\n",
      "-------  Class: boat             AP:   0.3981  -------\n",
      "-------  Class: bottle           AP:   0.1259  -------\n",
      "-------  Class: bus              AP:   0.2567  -------\n",
      "-------  Class: car              AP:   0.5232  -------\n",
      "-------  Class: cat              AP:   0.3728  -------\n",
      "-------  Class: chair            AP:   0.4361  -------\n",
      "-------  Class: cow              AP:   0.1494  -------\n",
      "-------  Class: diningtable      AP:   0.3137  -------\n",
      "-------  Class: dog              AP:   0.2640  -------\n",
      "-------  Class: horse            AP:   0.4461  -------\n",
      "-------  Class: motorbike        AP:   0.3236  -------\n",
      "-------  Class: person           AP:   0.7184  -------\n",
      "-------  Class: pottedplant      AP:   0.1338  -------\n",
      "-------  Class: sheep            AP:   0.1538  -------\n",
      "-------  Class: sofa             AP:   0.2793  -------\n",
      "-------  Class: train            AP:   0.5130  -------\n",
      "-------  Class: tvmonitor        AP:   0.3184  -------\n",
      "mAP: 0.3365\n",
      "Avg loss: 0.1841549355845163\n",
      "Evaluating classifier\n",
      "Mean Precision Score for Testing on Epoch 25 is 0.33645840576551317\n",
      "Starting epoch number 26\n",
      "Loss for Training on Epoch 26 is 0.18719737231731415\n",
      "Starting epoch number 27\n",
      "Loss for Training on Epoch 27 is 0.1873885989189148\n",
      "Starting epoch number 28\n",
      "Loss for Training on Epoch 28 is 0.18607673048973083\n",
      "Starting epoch number 29\n",
      "Loss for Training on Epoch 29 is 0.18493609130382538\n",
      "Starting epoch number 30\n",
      "Loss for Training on Epoch 30 is 0.18548844754695892\n",
      "-------  Class: aeroplane        AP:   0.5891  -------\n",
      "-------  Class: bicycle          AP:   0.2508  -------\n",
      "-------  Class: bird             AP:   0.2326  -------\n",
      "-------  Class: boat             AP:   0.4199  -------\n",
      "-------  Class: bottle           AP:   0.1488  -------\n",
      "-------  Class: bus              AP:   0.2793  -------\n",
      "-------  Class: car              AP:   0.5297  -------\n",
      "-------  Class: cat              AP:   0.3884  -------\n",
      "-------  Class: chair            AP:   0.4427  -------\n",
      "-------  Class: cow              AP:   0.1729  -------\n",
      "-------  Class: diningtable      AP:   0.3276  -------\n",
      "-------  Class: dog              AP:   0.2424  -------\n",
      "-------  Class: horse            AP:   0.4501  -------\n",
      "-------  Class: motorbike        AP:   0.3307  -------\n",
      "-------  Class: person           AP:   0.7270  -------\n",
      "-------  Class: pottedplant      AP:   0.1485  -------\n",
      "-------  Class: sheep            AP:   0.1676  -------\n",
      "-------  Class: sofa             AP:   0.3035  -------\n",
      "-------  Class: train            AP:   0.4801  -------\n",
      "-------  Class: tvmonitor        AP:   0.3037  -------\n",
      "mAP: 0.3468\n",
      "Avg loss: 0.18308604560839903\n",
      "Evaluating classifier\n",
      "Mean Precision Score for Testing on Epoch 30 is 0.34677705896744365\n",
      "Starting epoch number 31\n",
      "Loss for Training on Epoch 31 is 0.1855677366256714\n",
      "Starting epoch number 32\n",
      "Loss for Training on Epoch 32 is 0.18508832156658173\n",
      "Starting epoch number 33\n",
      "Loss for Training on Epoch 33 is 0.18411129713058472\n",
      "Starting epoch number 34\n",
      "Loss for Training on Epoch 34 is 0.18433019518852234\n",
      "Starting epoch number 35\n",
      "Loss for Training on Epoch 35 is 0.1830802708864212\n",
      "-------  Class: aeroplane        AP:   0.5904  -------\n",
      "-------  Class: bicycle          AP:   0.2490  -------\n",
      "-------  Class: bird             AP:   0.2776  -------\n",
      "-------  Class: boat             AP:   0.4015  -------\n",
      "-------  Class: bottle           AP:   0.1367  -------\n",
      "-------  Class: bus              AP:   0.2818  -------\n",
      "-------  Class: car              AP:   0.5599  -------\n",
      "-------  Class: cat              AP:   0.4363  -------\n",
      "-------  Class: chair            AP:   0.4610  -------\n",
      "-------  Class: cow              AP:   0.1822  -------\n",
      "-------  Class: diningtable      AP:   0.3831  -------\n",
      "-------  Class: dog              AP:   0.2740  -------\n",
      "-------  Class: horse            AP:   0.4442  -------\n",
      "-------  Class: motorbike        AP:   0.3972  -------\n",
      "-------  Class: person           AP:   0.7371  -------\n",
      "-------  Class: pottedplant      AP:   0.1416  -------\n",
      "-------  Class: sheep            AP:   0.1624  -------\n",
      "-------  Class: sofa             AP:   0.3135  -------\n",
      "-------  Class: train            AP:   0.4815  -------\n",
      "-------  Class: tvmonitor        AP:   0.3238  -------\n",
      "mAP: 0.3617\n",
      "Avg loss: 0.18397278108509482\n",
      "Evaluating classifier\n",
      "Mean Precision Score for Testing on Epoch 35 is 0.3617392551641661\n",
      "Starting epoch number 36\n",
      "Loss for Training on Epoch 36 is 0.1823524534702301\n",
      "Starting epoch number 37\n",
      "Loss for Training on Epoch 37 is 0.181523859500885\n",
      "Starting epoch number 38\n",
      "Loss for Training on Epoch 38 is 0.18155710399150848\n",
      "Starting epoch number 39\n",
      "Loss for Training on Epoch 39 is 0.18090760707855225\n",
      "Starting epoch number 40\n",
      "Loss for Training on Epoch 40 is 0.181582510471344\n",
      "-------  Class: aeroplane        AP:   0.5794  -------\n",
      "-------  Class: bicycle          AP:   0.2533  -------\n",
      "-------  Class: bird             AP:   0.2637  -------\n",
      "-------  Class: boat             AP:   0.4183  -------\n",
      "-------  Class: bottle           AP:   0.1405  -------\n",
      "-------  Class: bus              AP:   0.3092  -------\n",
      "-------  Class: car              AP:   0.5728  -------\n",
      "-------  Class: cat              AP:   0.4095  -------\n",
      "-------  Class: chair            AP:   0.4490  -------\n",
      "-------  Class: cow              AP:   0.2039  -------\n",
      "-------  Class: diningtable      AP:   0.3136  -------\n",
      "-------  Class: dog              AP:   0.2623  -------\n",
      "-------  Class: horse            AP:   0.4444  -------\n",
      "-------  Class: motorbike        AP:   0.3286  -------\n",
      "-------  Class: person           AP:   0.7186  -------\n",
      "-------  Class: pottedplant      AP:   0.1567  -------\n",
      "-------  Class: sheep            AP:   0.1505  -------\n",
      "-------  Class: sofa             AP:   0.2996  -------\n",
      "-------  Class: train            AP:   0.5574  -------\n",
      "-------  Class: tvmonitor        AP:   0.3032  -------\n",
      "mAP: 0.3567\n",
      "Avg loss: 0.18815657441878014\n",
      "Evaluating classifier\n",
      "Mean Precision Score for Testing on Epoch 40 is 0.3567196326106015\n",
      "Starting epoch number 41\n",
      "Loss for Training on Epoch 41 is 0.18109488487243652\n",
      "Starting epoch number 42\n",
      "Loss for Training on Epoch 42 is 0.18013837933540344\n",
      "Starting epoch number 43\n",
      "Loss for Training on Epoch 43 is 0.17863428592681885\n",
      "Starting epoch number 44\n",
      "Loss for Training on Epoch 44 is 0.17960406839847565\n",
      "Starting epoch number 45\n",
      "Loss for Training on Epoch 45 is 0.18114633858203888\n",
      "-------  Class: aeroplane        AP:   0.6029  -------\n",
      "-------  Class: bicycle          AP:   0.2764  -------\n",
      "-------  Class: bird             AP:   0.2673  -------\n",
      "-------  Class: boat             AP:   0.3757  -------\n",
      "-------  Class: bottle           AP:   0.1301  -------\n",
      "-------  Class: bus              AP:   0.2393  -------\n",
      "-------  Class: car              AP:   0.5854  -------\n",
      "-------  Class: cat              AP:   0.4108  -------\n",
      "-------  Class: chair            AP:   0.4440  -------\n",
      "-------  Class: cow              AP:   0.1686  -------\n",
      "-------  Class: diningtable      AP:   0.3397  -------\n",
      "-------  Class: dog              AP:   0.2591  -------\n",
      "-------  Class: horse            AP:   0.4970  -------\n",
      "-------  Class: motorbike        AP:   0.4283  -------\n",
      "-------  Class: person           AP:   0.7585  -------\n",
      "-------  Class: pottedplant      AP:   0.1983  -------\n",
      "-------  Class: sheep            AP:   0.1526  -------\n",
      "-------  Class: sofa             AP:   0.2986  -------\n",
      "-------  Class: train            AP:   0.5265  -------\n",
      "-------  Class: tvmonitor        AP:   0.3414  -------\n",
      "mAP: 0.3650\n",
      "Avg loss: 0.17700048528943851\n",
      "Evaluating classifier\n",
      "Mean Precision Score for Testing on Epoch 45 is 0.36503165898336015\n",
      "Starting epoch number 46\n",
      "Loss for Training on Epoch 46 is 0.18128229677677155\n",
      "Starting epoch number 47\n",
      "Loss for Training on Epoch 47 is 0.18037155270576477\n",
      "Starting epoch number 48\n",
      "Loss for Training on Epoch 48 is 0.180446594953537\n",
      "Starting epoch number 49\n",
      "Loss for Training on Epoch 49 is 0.18006771802902222\n",
      "Starting epoch number 50\n",
      "Loss for Training on Epoch 50 is 0.17955319583415985\n",
      "-------  Class: aeroplane        AP:   0.6112  -------\n",
      "-------  Class: bicycle          AP:   0.2666  -------\n",
      "-------  Class: bird             AP:   0.2688  -------\n",
      "-------  Class: boat             AP:   0.4756  -------\n",
      "-------  Class: bottle           AP:   0.1661  -------\n",
      "-------  Class: bus              AP:   0.2253  -------\n",
      "-------  Class: car              AP:   0.5633  -------\n",
      "-------  Class: cat              AP:   0.4061  -------\n",
      "-------  Class: chair            AP:   0.4491  -------\n",
      "-------  Class: cow              AP:   0.1515  -------\n",
      "-------  Class: diningtable      AP:   0.3627  -------\n",
      "-------  Class: dog              AP:   0.2825  -------\n",
      "-------  Class: horse            AP:   0.4458  -------\n",
      "-------  Class: motorbike        AP:   0.2622  -------\n",
      "-------  Class: person           AP:   0.7463  -------\n",
      "-------  Class: pottedplant      AP:   0.1718  -------\n",
      "-------  Class: sheep            AP:   0.1619  -------\n",
      "-------  Class: sofa             AP:   0.2812  -------\n",
      "-------  Class: train            AP:   0.5656  -------\n",
      "-------  Class: tvmonitor        AP:   0.3825  -------\n",
      "mAP: 0.3623\n",
      "Avg loss: 0.18062970319845875\n",
      "Evaluating classifier\n",
      "Mean Precision Score for Testing on Epoch 50 is 0.36230529329435923\n"
     ]
    }
   ],
   "source": [
    "# TODO: Run your own classifier here\n",
    "classifier = Classifier().to(device)\n",
    "\n",
    "criterion = nn.MultiLabelSoftMarginLoss()\n",
    "# optimizer = torch.optim.SGD(classifier.parameters(), lr=0.01, momentum=0.9, weight_decay=0.01)\n",
    "optimizer = torch.optim.Adam(classifier.parameters(), lr=1e-4, weight_decay=0.001)\n",
    "\n",
    "classifier, train_losses, val_losses, train_mAPs, val_mAPs = train(classifier, num_epochs, train_loader, val_loader, criterion, optimizer, test_frequency)\n"
   ]
  },
  {
   "cell_type": "code",
   "execution_count": 57,
   "metadata": {
    "colab": {
     "base_uri": "https://localhost:8080/",
     "height": 573
    },
    "executionInfo": {
     "elapsed": 524,
     "status": "ok",
     "timestamp": 1604809713314,
     "user": {
      "displayName": "Darren Anco",
      "photoUrl": "",
      "userId": "14649199161897741912"
     },
     "user_tz": 360
    },
    "id": "WoXwtN4lBBqi",
    "outputId": "ddbbf3d5-9727-4403-f2b3-58ecdb559763"
   },
   "outputs": [
    {
     "data": {
      "image/png": "[encoded data removed]",
      "text/plain": [
       "<Figure size 432x288 with 1 Axes>"
      ]
     },
     "metadata": {
      "needs_background": "light",
      "tags": []
     },
     "output_type": "display_data"
    },
    {
     "data": {
      "image/png": "[encoded data removed]",
      "text/plain": [
       "<Figure size 432x288 with 1 Axes>"
      ]
     },
     "metadata": {
      "needs_background": "light",
      "tags": []
     },
     "output_type": "display_data"
    }
   ],
   "source": [
    "plot_losses(train_losses, val_losses, test_frequency, num_epochs)\n",
    "plot_mAP(train_mAPs, val_mAPs, test_frequency, num_epochs)"
   ]
  },
  {
   "cell_type": "code",
   "execution_count": 58,
   "metadata": {
    "colab": {
     "base_uri": "https://localhost:8080/"
    },
    "executionInfo": {
     "elapsed": 45402,
     "status": "ok",
     "timestamp": 1604809761547,
     "user": {
      "displayName": "Darren Anco",
      "photoUrl": "",
      "userId": "14649199161897741912"
     },
     "user_tz": 360
    },
    "id": "iPiWh--xecuQ",
    "outputId": "5f89e68b-9c84-409b-8bbf-b81033a051e2"
   },
   "outputs": [
    {
     "name": "stdout",
     "output_type": "stream",
     "text": [
      "-------  Class: aeroplane        AP:   0.6275  -------\n",
      "-------  Class: bicycle          AP:   0.2670  -------\n",
      "-------  Class: bird             AP:   0.2784  -------\n",
      "-------  Class: boat             AP:   0.4536  -------\n",
      "-------  Class: bottle           AP:   0.1484  -------\n",
      "-------  Class: bus              AP:   0.2196  -------\n",
      "-------  Class: car              AP:   0.5871  -------\n",
      "-------  Class: cat              AP:   0.3886  -------\n",
      "-------  Class: chair            AP:   0.4520  -------\n",
      "-------  Class: cow              AP:   0.1851  -------\n",
      "-------  Class: diningtable      AP:   0.3110  -------\n",
      "-------  Class: dog              AP:   0.2865  -------\n",
      "-------  Class: horse            AP:   0.5495  -------\n",
      "-------  Class: motorbike        AP:   0.2832  -------\n",
      "-------  Class: person           AP:   0.7481  -------\n",
      "-------  Class: pottedplant      AP:   0.1815  -------\n",
      "-------  Class: sheep            AP:   0.2063  -------\n",
      "-------  Class: sofa             AP:   0.2847  -------\n",
      "-------  Class: train            AP:   0.5176  -------\n",
      "-------  Class: tvmonitor        AP:   0.3315  -------\n",
      "mAP: 0.3654\n",
      "Avg loss: 0.17574826175398126\n",
      "0.3653769435000537\n"
     ]
    }
   ],
   "source": [
    "mAP_test, test_loss, test_aps = test_classifier(test_loader, classifier, criterion)\n",
    "print(mAP_test)"
   ]
  },
  {
   "cell_type": "code",
   "execution_count": 59,
   "metadata": {
    "executionInfo": {
     "elapsed": 572,
     "status": "ok",
     "timestamp": 1604809774174,
     "user": {
      "displayName": "Darren Anco",
      "photoUrl": "",
      "userId": "14649199161897741912"
     },
     "user_tz": 360
    },
    "id": "_dHNTvSzBBqn"
   },
   "outputs": [],
   "source": [
    "torch.save(classifier.state_dict(), './voc_my_best_classifier.pth')\n",
    "output_submission_csv('my_solution.csv', test_aps)"
   ]
  },
  {
   "cell_type": "markdown",
   "metadata": {
    "id": "VKMUturzfNS_"
   },
   "source": [
    "# BASENET"
   ]
  },
  {
   "cell_type": "code",
   "execution_count": 32,
   "metadata": {
    "colab": {
     "base_uri": "https://localhost:8080/"
    },
    "executionInfo": {
     "elapsed": 33388,
     "status": "ok",
     "timestamp": 1604788430501,
     "user": {
      "displayName": "Darren Anco",
      "photoUrl": "",
      "userId": "14649199161897741912"
     },
     "user_tz": 360
    },
    "id": "Qg5GYzASfQow",
    "outputId": "ae85c24c-2b6f-45c0-e4e3-c414ce87055e"
   },
   "outputs": [
    {
     "name": "stdout",
     "output_type": "stream",
     "text": [
      "-------  Class: aeroplane        AP:   0.2968  -------\n",
      "-------  Class: bicycle          AP:   0.0583  -------\n",
      "-------  Class: bird             AP:   0.1014  -------\n",
      "-------  Class: boat             AP:   0.1407  -------\n",
      "-------  Class: bottle           AP:   0.0701  -------\n",
      "-------  Class: bus              AP:   0.0513  -------\n",
      "-------  Class: car              AP:   0.1968  -------\n",
      "-------  Class: cat              AP:   0.1208  -------\n",
      "-------  Class: chair            AP:   0.2093  -------\n",
      "-------  Class: cow              AP:   0.0480  -------\n",
      "-------  Class: diningtable      AP:   0.0924  -------\n",
      "-------  Class: dog              AP:   0.1566  -------\n",
      "-------  Class: horse            AP:   0.0858  -------\n",
      "-------  Class: motorbike        AP:   0.0404  -------\n",
      "-------  Class: person           AP:   0.5215  -------\n",
      "-------  Class: pottedplant      AP:   0.0632  -------\n",
      "-------  Class: sheep            AP:   0.0681  -------\n",
      "-------  Class: sofa             AP:   0.1496  -------\n",
      "-------  Class: train            AP:   0.1299  -------\n",
      "-------  Class: tvmonitor        AP:   0.0804  -------\n",
      "mAP: 0.1341\n",
      "Avg loss: 0.22066738352179527\n",
      "0.1340704826549052\n"
     ]
    }
   ],
   "source": [
    "mAP_test, test_loss, test_aps = test_classifier(test_loader, classifier, criterion)\n",
    "print(mAP_test)"
   ]
  },
  {
   "cell_type": "markdown",
   "metadata": {
    "id": "rAMPU8pZfRS1"
   },
   "source": [
    "# BASENET + RandomResizedCrop"
   ]
  },
  {
   "cell_type": "code",
   "execution_count": 36,
   "metadata": {
    "colab": {
     "base_uri": "https://localhost:8080/"
    },
    "executionInfo": {
     "elapsed": 33409,
     "status": "ok",
     "timestamp": 1604789041118,
     "user": {
      "displayName": "Darren Anco",
      "photoUrl": "",
      "userId": "14649199161897741912"
     },
     "user_tz": 360
    },
    "id": "CDW1wlT6fW8j",
    "outputId": "7794e40a-419e-49dc-d034-5667a8091890"
   },
   "outputs": [
    {
     "name": "stdout",
     "output_type": "stream",
     "text": [
      "-------  Class: aeroplane        AP:   0.3315  -------\n",
      "-------  Class: bicycle          AP:   0.0503  -------\n",
      "-------  Class: bird             AP:   0.0942  -------\n",
      "-------  Class: boat             AP:   0.1811  -------\n",
      "-------  Class: bottle           AP:   0.0720  -------\n",
      "-------  Class: bus              AP:   0.0449  -------\n",
      "-------  Class: car              AP:   0.1746  -------\n",
      "-------  Class: cat              AP:   0.1373  -------\n",
      "-------  Class: chair            AP:   0.1929  -------\n",
      "-------  Class: cow              AP:   0.0385  -------\n",
      "-------  Class: diningtable      AP:   0.0884  -------\n",
      "-------  Class: dog              AP:   0.1479  -------\n",
      "-------  Class: horse            AP:   0.0575  -------\n",
      "-------  Class: motorbike        AP:   0.0364  -------\n",
      "-------  Class: person           AP:   0.4964  -------\n",
      "-------  Class: pottedplant      AP:   0.0682  -------\n",
      "-------  Class: sheep            AP:   0.0517  -------\n",
      "-------  Class: sofa             AP:   0.1521  -------\n",
      "-------  Class: train            AP:   0.0803  -------\n",
      "-------  Class: tvmonitor        AP:   0.0678  -------\n",
      "mAP: 0.1282\n",
      "Avg loss: 0.22237035915255546\n",
      "0.12819829330739002\n"
     ]
    }
   ],
   "source": [
    "mAP_test, test_loss, test_aps = test_classifier(test_loader, classifier, criterion)\n",
    "print(mAP_test)"
   ]
  },
  {
   "cell_type": "markdown",
   "metadata": {
    "id": "eA0H69ZXfXfh"
   },
   "source": [
    "# Previous + RandomHorizontalFlip"
   ]
  },
  {
   "cell_type": "code",
   "execution_count": 40,
   "metadata": {
    "colab": {
     "base_uri": "https://localhost:8080/"
    },
    "executionInfo": {
     "elapsed": 33601,
     "status": "ok",
     "timestamp": 1604789676243,
     "user": {
      "displayName": "Darren Anco",
      "photoUrl": "",
      "userId": "14649199161897741912"
     },
     "user_tz": 360
    },
    "id": "hg0KalpRfaiA",
    "outputId": "67e2507c-671b-4703-a6f3-65ca10a9a985"
   },
   "outputs": [
    {
     "name": "stdout",
     "output_type": "stream",
     "text": [
      "-------  Class: aeroplane        AP:   0.3132  -------\n",
      "-------  Class: bicycle          AP:   0.0508  -------\n",
      "-------  Class: bird             AP:   0.1011  -------\n",
      "-------  Class: boat             AP:   0.1678  -------\n",
      "-------  Class: bottle           AP:   0.0705  -------\n",
      "-------  Class: bus              AP:   0.0506  -------\n",
      "-------  Class: car              AP:   0.1907  -------\n",
      "-------  Class: cat              AP:   0.1253  -------\n",
      "-------  Class: chair            AP:   0.1774  -------\n",
      "-------  Class: cow              AP:   0.0466  -------\n",
      "-------  Class: diningtable      AP:   0.0831  -------\n",
      "-------  Class: dog              AP:   0.1531  -------\n",
      "-------  Class: horse            AP:   0.0627  -------\n",
      "-------  Class: motorbike        AP:   0.0442  -------\n",
      "-------  Class: person           AP:   0.5163  -------\n",
      "-------  Class: pottedplant      AP:   0.0693  -------\n",
      "-------  Class: sheep            AP:   0.0385  -------\n",
      "-------  Class: sofa             AP:   0.1556  -------\n",
      "-------  Class: train            AP:   0.1232  -------\n",
      "-------  Class: tvmonitor        AP:   0.0631  -------\n",
      "mAP: 0.1302\n",
      "Avg loss: 0.2217063480615616\n",
      "0.13015081820464683\n"
     ]
    }
   ],
   "source": [
    "mAP_test, test_loss, test_aps = test_classifier(test_loader, classifier, criterion)\n",
    "print(mAP_test)"
   ]
  },
  {
   "cell_type": "markdown",
   "metadata": {
    "id": "CE927q5xfbBW"
   },
   "source": [
    "# Previous + Batch Normalization Layers"
   ]
  },
  {
   "cell_type": "code",
   "execution_count": 44,
   "metadata": {
    "colab": {
     "base_uri": "https://localhost:8080/"
    },
    "executionInfo": {
     "elapsed": 34098,
     "status": "ok",
     "timestamp": 1604790423585,
     "user": {
      "displayName": "Darren Anco",
      "photoUrl": "",
      "userId": "14649199161897741912"
     },
     "user_tz": 360
    },
    "id": "tCzqWv9GffLu",
    "outputId": "82bc13d7-ff80-499e-fa0b-095f6c11534a"
   },
   "outputs": [
    {
     "name": "stdout",
     "output_type": "stream",
     "text": [
      "-------  Class: aeroplane        AP:   0.4597  -------\n",
      "-------  Class: bicycle          AP:   0.1675  -------\n",
      "-------  Class: bird             AP:   0.1373  -------\n",
      "-------  Class: boat             AP:   0.2585  -------\n",
      "-------  Class: bottle           AP:   0.1054  -------\n",
      "-------  Class: bus              AP:   0.1087  -------\n",
      "-------  Class: car              AP:   0.4459  -------\n",
      "-------  Class: cat              AP:   0.1972  -------\n",
      "-------  Class: chair            AP:   0.2826  -------\n",
      "-------  Class: cow              AP:   0.0914  -------\n",
      "-------  Class: diningtable      AP:   0.1517  -------\n",
      "-------  Class: dog              AP:   0.1796  -------\n",
      "-------  Class: horse            AP:   0.3456  -------\n",
      "-------  Class: motorbike        AP:   0.1350  -------\n",
      "-------  Class: person           AP:   0.5913  -------\n",
      "-------  Class: pottedplant      AP:   0.1078  -------\n",
      "-------  Class: sheep            AP:   0.1528  -------\n",
      "-------  Class: sofa             AP:   0.2150  -------\n",
      "-------  Class: train            AP:   0.2757  -------\n",
      "-------  Class: tvmonitor        AP:   0.1190  -------\n",
      "mAP: 0.2264\n",
      "Avg loss: 0.2028179083764553\n",
      "0.22640159594038484\n"
     ]
    }
   ],
   "source": [
    "mAP_test, test_loss, test_aps = test_classifier(test_loader, classifier, criterion)\n",
    "print(mAP_test)"
   ]
  },
  {
   "cell_type": "markdown",
   "metadata": {
    "id": "tVYiktX9-GTr"
   },
   "source": [
    "# Previous + Deeper Network"
   ]
  },
  {
   "cell_type": "code",
   "execution_count": 10,
   "metadata": {
    "colab": {
     "base_uri": "https://localhost:8080/"
    },
    "executionInfo": {
     "elapsed": 35840,
     "status": "ok",
     "timestamp": 1604791274405,
     "user": {
      "displayName": "Darren Anco",
      "photoUrl": "",
      "userId": "14649199161897741912"
     },
     "user_tz": 360
    },
    "id": "xnNoedE--Gwv",
    "outputId": "830a142e-5799-4613-9e8d-34768b37bcbc"
   },
   "outputs": [
    {
     "name": "stdout",
     "output_type": "stream",
     "text": [
      "-------  Class: aeroplane        AP:   0.4771  -------\n",
      "-------  Class: bicycle          AP:   0.0908  -------\n",
      "-------  Class: bird             AP:   0.1469  -------\n",
      "-------  Class: boat             AP:   0.1912  -------\n",
      "-------  Class: bottle           AP:   0.0880  -------\n",
      "-------  Class: bus              AP:   0.0928  -------\n",
      "-------  Class: car              AP:   0.4220  -------\n",
      "-------  Class: cat              AP:   0.1679  -------\n",
      "-------  Class: chair            AP:   0.2663  -------\n",
      "-------  Class: cow              AP:   0.0406  -------\n",
      "-------  Class: diningtable      AP:   0.1476  -------\n",
      "-------  Class: dog              AP:   0.1801  -------\n",
      "-------  Class: horse            AP:   0.1339  -------\n",
      "-------  Class: motorbike        AP:   0.1334  -------\n",
      "-------  Class: person           AP:   0.6082  -------\n",
      "-------  Class: pottedplant      AP:   0.0874  -------\n",
      "-------  Class: sheep            AP:   0.1397  -------\n",
      "-------  Class: sofa             AP:   0.2036  -------\n",
      "-------  Class: train            AP:   0.2317  -------\n",
      "-------  Class: tvmonitor        AP:   0.0859  -------\n",
      "mAP: 0.1968\n",
      "Avg loss: 0.21003720328211783\n",
      "0.19675008207850594\n"
     ]
    }
   ],
   "source": [
    "mAP_test, test_loss, test_aps = test_classifier(test_loader, classifier, criterion)\n",
    "print(mAP_test)"
   ]
  },
  {
   "cell_type": "markdown",
   "metadata": {
    "id": "tsx6NZsCfhOA"
   },
   "source": [
    "# Previous + Residual Skip Connections"
   ]
  },
  {
   "cell_type": "code",
   "execution_count": 14,
   "metadata": {
    "colab": {
     "base_uri": "https://localhost:8080/"
    },
    "executionInfo": {
     "elapsed": 47582,
     "status": "ok",
     "timestamp": 1604793012206,
     "user": {
      "displayName": "Darren Anco",
      "photoUrl": "",
      "userId": "14649199161897741912"
     },
     "user_tz": 360
    },
    "id": "-q_Tan4xflbe",
    "outputId": "36bdca58-4367-4fe7-ca84-fb36c4a7c052"
   },
   "outputs": [
    {
     "name": "stdout",
     "output_type": "stream",
     "text": [
      "-------  Class: aeroplane        AP:   0.4943  -------\n",
      "-------  Class: bicycle          AP:   0.1504  -------\n",
      "-------  Class: bird             AP:   0.1634  -------\n",
      "-------  Class: boat             AP:   0.1946  -------\n",
      "-------  Class: bottle           AP:   0.1106  -------\n",
      "-------  Class: bus              AP:   0.1412  -------\n",
      "-------  Class: car              AP:   0.4529  -------\n",
      "-------  Class: cat              AP:   0.1725  -------\n",
      "-------  Class: chair            AP:   0.3195  -------\n",
      "-------  Class: cow              AP:   0.1144  -------\n",
      "-------  Class: diningtable      AP:   0.1968  -------\n",
      "-------  Class: dog              AP:   0.1959  -------\n",
      "-------  Class: horse            AP:   0.3558  -------\n",
      "-------  Class: motorbike        AP:   0.1616  -------\n",
      "-------  Class: person           AP:   0.6694  -------\n",
      "-------  Class: pottedplant      AP:   0.1011  -------\n",
      "-------  Class: sheep            AP:   0.1834  -------\n",
      "-------  Class: sofa             AP:   0.2585  -------\n",
      "-------  Class: train            AP:   0.2862  -------\n",
      "-------  Class: tvmonitor        AP:   0.1350  -------\n",
      "mAP: 0.2429\n",
      "Avg loss: 0.20932040989398956\n",
      "0.24289471240625699\n"
     ]
    }
   ],
   "source": [
    "mAP_test, test_loss, test_aps = test_classifier(test_loader, classifier, criterion)\n",
    "print(mAP_test)"
   ]
  },
  {
   "cell_type": "markdown",
   "metadata": {
    "id": "5igCQr6QBYwV"
   },
   "source": [
    "# Previous + Adam\n",
    "\n"
   ]
  },
  {
   "cell_type": "code",
   "execution_count": 16,
   "metadata": {
    "colab": {
     "base_uri": "https://localhost:8080/"
    },
    "executionInfo": {
     "elapsed": 45482,
     "status": "ok",
     "timestamp": 1604794704340,
     "user": {
      "displayName": "Darren Anco",
      "photoUrl": "",
      "userId": "14649199161897741912"
     },
     "user_tz": 360
    },
    "id": "8wX3Zw-iBZBl",
    "outputId": "8760932b-73d2-4880-9857-a0914150677d"
   },
   "outputs": [
    {
     "name": "stdout",
     "output_type": "stream",
     "text": [
      "-------  Class: aeroplane        AP:   0.5687  -------\n",
      "-------  Class: bicycle          AP:   0.1121  -------\n",
      "-------  Class: bird             AP:   0.2036  -------\n",
      "-------  Class: boat             AP:   0.2002  -------\n",
      "-------  Class: bottle           AP:   0.1122  -------\n",
      "-------  Class: bus              AP:   0.2014  -------\n",
      "-------  Class: car              AP:   0.4677  -------\n",
      "-------  Class: cat              AP:   0.2214  -------\n",
      "-------  Class: chair            AP:   0.3812  -------\n",
      "-------  Class: cow              AP:   0.1670  -------\n",
      "-------  Class: diningtable      AP:   0.2245  -------\n",
      "-------  Class: dog              AP:   0.2463  -------\n",
      "-------  Class: horse            AP:   0.3791  -------\n",
      "-------  Class: motorbike        AP:   0.2084  -------\n",
      "-------  Class: person           AP:   0.6617  -------\n",
      "-------  Class: pottedplant      AP:   0.1343  -------\n",
      "-------  Class: sheep            AP:   0.1865  -------\n",
      "-------  Class: sofa             AP:   0.2766  -------\n",
      "-------  Class: train            AP:   0.3761  -------\n",
      "-------  Class: tvmonitor        AP:   0.1629  -------\n",
      "mAP: 0.2746\n",
      "Avg loss: 0.1930915653705597\n",
      "0.2745919586013598\n"
     ]
    }
   ],
   "source": [
    "mAP_test, test_loss, test_aps = test_classifier(test_loader, classifier, criterion)\n",
    "print(mAP_test)"
   ]
  },
  {
   "cell_type": "markdown",
   "metadata": {
    "id": "yD1sRyKwBZWg"
   },
   "source": [
    "# Previous + Weight Decay"
   ]
  },
  {
   "cell_type": "code",
   "execution_count": 18,
   "metadata": {
    "colab": {
     "base_uri": "https://localhost:8080/"
    },
    "executionInfo": {
     "elapsed": 45796,
     "status": "ok",
     "timestamp": 1604796492428,
     "user": {
      "displayName": "Darren Anco",
      "photoUrl": "",
      "userId": "14649199161897741912"
     },
     "user_tz": 360
    },
    "id": "N4YoNC7nBZnG",
    "outputId": "6c105dfb-7ff5-4ff1-fab6-d63c026a2619"
   },
   "outputs": [
    {
     "name": "stdout",
     "output_type": "stream",
     "text": [
      "-------  Class: aeroplane        AP:   0.5786  -------\n",
      "-------  Class: bicycle          AP:   0.1178  -------\n",
      "-------  Class: bird             AP:   0.1946  -------\n",
      "-------  Class: boat             AP:   0.3202  -------\n",
      "-------  Class: bottle           AP:   0.1184  -------\n",
      "-------  Class: bus              AP:   0.1830  -------\n",
      "-------  Class: car              AP:   0.4444  -------\n",
      "-------  Class: cat              AP:   0.2197  -------\n",
      "-------  Class: chair            AP:   0.3278  -------\n",
      "-------  Class: cow              AP:   0.1292  -------\n",
      "-------  Class: diningtable      AP:   0.1917  -------\n",
      "-------  Class: dog              AP:   0.1884  -------\n",
      "-------  Class: horse            AP:   0.4629  -------\n",
      "-------  Class: motorbike        AP:   0.1950  -------\n",
      "-------  Class: person           AP:   0.6929  -------\n",
      "-------  Class: pottedplant      AP:   0.0982  -------\n",
      "-------  Class: sheep            AP:   0.1479  -------\n",
      "-------  Class: sofa             AP:   0.2413  -------\n",
      "-------  Class: train            AP:   0.3589  -------\n",
      "-------  Class: tvmonitor        AP:   0.1188  -------\n",
      "mAP: 0.2665\n",
      "Avg loss: 0.19740693628787995\n",
      "0.2664839095619026\n"
     ]
    }
   ],
   "source": [
    "mAP_test, test_loss, test_aps = test_classifier(test_loader, classifier, criterion)\n",
    "print(mAP_test)"
   ]
  },
  {
   "cell_type": "markdown",
   "metadata": {
    "id": "AN7B15wMBZ08"
   },
   "source": [
    "# Previous + Batch Size Tuning\n",
    "\n"
   ]
  },
  {
   "cell_type": "code",
   "execution_count": 21,
   "metadata": {
    "colab": {
     "base_uri": "https://localhost:8080/"
    },
    "executionInfo": {
     "elapsed": 42743,
     "status": "ok",
     "timestamp": 1604798115197,
     "user": {
      "displayName": "Darren Anco",
      "photoUrl": "",
      "userId": "14649199161897741912"
     },
     "user_tz": 360
    },
    "id": "SqqpgT1ABaBn",
    "outputId": "190a8f14-ed54-40f3-c460-43cce587e9a3"
   },
   "outputs": [
    {
     "name": "stdout",
     "output_type": "stream",
     "text": [
      "-------  Class: aeroplane        AP:   0.5612  -------\n",
      "-------  Class: bicycle          AP:   0.2522  -------\n",
      "-------  Class: bird             AP:   0.2016  -------\n",
      "-------  Class: boat             AP:   0.3442  -------\n",
      "-------  Class: bottle           AP:   0.1187  -------\n",
      "-------  Class: bus              AP:   0.1483  -------\n",
      "-------  Class: car              AP:   0.5070  -------\n",
      "-------  Class: cat              AP:   0.2954  -------\n",
      "-------  Class: chair            AP:   0.4211  -------\n",
      "-------  Class: cow              AP:   0.1519  -------\n",
      "-------  Class: diningtable      AP:   0.2072  -------\n",
      "-------  Class: dog              AP:   0.2622  -------\n",
      "-------  Class: horse            AP:   0.5591  -------\n",
      "-------  Class: motorbike        AP:   0.3132  -------\n",
      "-------  Class: person           AP:   0.6806  -------\n",
      "-------  Class: pottedplant      AP:   0.1602  -------\n",
      "-------  Class: sheep            AP:   0.2079  -------\n",
      "-------  Class: sofa             AP:   0.2767  -------\n",
      "-------  Class: train            AP:   0.3557  -------\n",
      "-------  Class: tvmonitor        AP:   0.2015  -------\n",
      "mAP: 0.3113\n",
      "Avg loss: 0.18900195148100954\n",
      "0.31128900864987685\n"
     ]
    }
   ],
   "source": [
    "mAP_test, test_loss, test_aps = test_classifier(test_loader, classifier, criterion)\n",
    "print(mAP_test)"
   ]
  },
  {
   "cell_type": "markdown",
   "metadata": {
    "id": "CCrulxT3Bm0Y"
   },
   "source": [
    "# Previous + Epoch Tuning\n"
   ]
  },
  {
   "cell_type": "code",
   "execution_count": 24,
   "metadata": {
    "colab": {
     "base_uri": "https://localhost:8080/"
    },
    "executionInfo": {
     "elapsed": 45147,
     "status": "ok",
     "timestamp": 1604801619096,
     "user": {
      "displayName": "Darren Anco",
      "photoUrl": "",
      "userId": "14649199161897741912"
     },
     "user_tz": 360
    },
    "id": "pe5cQ_AYBnBI",
    "outputId": "c14f6604-ecac-4fb8-e606-b516a6e56282"
   },
   "outputs": [
    {
     "name": "stdout",
     "output_type": "stream",
     "text": [
      "-------  Class: aeroplane        AP:   0.6255  -------\n",
      "-------  Class: bicycle          AP:   0.3176  -------\n",
      "-------  Class: bird             AP:   0.2851  -------\n",
      "-------  Class: boat             AP:   0.3553  -------\n",
      "-------  Class: bottle           AP:   0.1443  -------\n",
      "-------  Class: bus              AP:   0.2816  -------\n",
      "-------  Class: car              AP:   0.5981  -------\n",
      "-------  Class: cat              AP:   0.3866  -------\n",
      "-------  Class: chair            AP:   0.4513  -------\n",
      "-------  Class: cow              AP:   0.1813  -------\n",
      "-------  Class: diningtable      AP:   0.3033  -------\n",
      "-------  Class: dog              AP:   0.3096  -------\n",
      "-------  Class: horse            AP:   0.5630  -------\n",
      "-------  Class: motorbike        AP:   0.2799  -------\n",
      "-------  Class: person           AP:   0.7592  -------\n",
      "-------  Class: pottedplant      AP:   0.1781  -------\n",
      "-------  Class: sheep            AP:   0.2155  -------\n",
      "-------  Class: sofa             AP:   0.2921  -------\n",
      "-------  Class: train            AP:   0.5502  -------\n",
      "-------  Class: tvmonitor        AP:   0.3602  -------\n",
      "mAP: 0.3719\n",
      "Avg loss: 0.17653741765773354\n",
      "0.371889818891872\n"
     ]
    }
   ],
   "source": [
    "mAP_test, test_loss, test_aps = test_classifier(test_loader, classifier, criterion)\n",
    "print(mAP_test)"
   ]
  },
  {
   "cell_type": "code",
   "execution_count": null,
   "metadata": {
    "id": "Cjw8lU7JoLPF"
   },
   "outputs": [],
   "source": []
  }
 ],
 "metadata": {
  "accelerator": "GPU",
  "colab": {
   "collapsed_sections": [],
   "name": "MP3_P1B_Develop_Classifier.ipynb",
   "provenance": []
  },
  "kernelspec": {
   "display_name": "Python 3",
   "language": "python",
   "name": "python3"
  },
  "language_info": {
   "codemirror_mode": {
    "name": "ipython",
    "version": 3
   },
   "file_extension": ".py",
   "mimetype": "text/x-python",
   "name": "python",
   "nbconvert_exporter": "python",
   "pygments_lexer": "ipython3",
   "version": "3.8.0"
  }
 },
 "nbformat": 4,
 "nbformat_minor": 1
}
